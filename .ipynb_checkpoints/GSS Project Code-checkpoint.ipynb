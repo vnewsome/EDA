{
  "cells": [
    {
      "cell_type": "markdown",
      "id": "ddcfd8ef-3e5a-4e4e-a7c9-cb7659863d3f",
      "metadata": {
        "id": "ddcfd8ef-3e5a-4e4e-a7c9-cb7659863d3f"
      },
      "source": [
        "Should not have to run this again since data is saved csv file now"
      ]
    },
    {
      "cell_type": "code",
      "source": [
        "! git clone https://github.com/kaykizzzle/ML-project-1"
      ],
      "metadata": {
        "id": "LEPgKb7bapmz",
        "outputId": "0027cade-80f4-42b2-d828-78fc677d8fb7",
        "colab": {
          "base_uri": "https://localhost:8080/"
        }
      },
      "id": "LEPgKb7bapmz",
      "execution_count": 1,
      "outputs": [
        {
          "output_type": "stream",
          "name": "stdout",
          "text": [
            "Cloning into 'ML-project-1'...\n",
            "remote: Enumerating objects: 32, done.\u001b[K\n",
            "remote: Counting objects: 100% (32/32), done.\u001b[K\n",
            "remote: Compressing objects: 100% (28/28), done.\u001b[K\n",
            "remote: Total 32 (delta 13), reused 5 (delta 3), pack-reused 0\u001b[K\n",
            "Receiving objects: 100% (32/32), 51.00 MiB | 12.34 MiB/s, done.\n",
            "Resolving deltas: 100% (13/13), done.\n"
          ]
        }
      ]
    },
    {
      "cell_type": "code",
      "execution_count": null,
      "id": "702524c6-4851-43e5-b60d-738b70f3201a",
      "metadata": {
        "collapsed": true,
        "jupyter": {
          "outputs_hidden": true
        },
        "tags": [],
        "id": "702524c6-4851-43e5-b60d-738b70f3201a",
        "outputId": "873d4fde-91f7-46d1-d586-575d00b1da40"
      },
      "outputs": [
        {
          "name": "stdout",
          "output_type": "stream",
          "text": [
            "https://github.com/kaykizzzle/ML-project-1/raw/main/gss_chunk_1.parquet\n",
            "   year  id            wrkstat  hrs1  hrs2 evwork    occ  prestige  \\\n",
            "0  1972   1  working full time   NaN   NaN    NaN  205.0      50.0   \n",
            "1  1972   2            retired   NaN   NaN    yes  441.0      45.0   \n",
            "2  1972   3  working part time   NaN   NaN    NaN  270.0      44.0   \n",
            "3  1972   4  working full time   NaN   NaN    NaN    1.0      57.0   \n",
            "4  1972   5      keeping house   NaN   NaN    yes  385.0      40.0   \n",
            "\n",
            "         wrkslf wrkgovt  ...  agehef12 agehef13 agehef14  hompoph wtssps_nea  \\\n",
            "0  someone else     NaN  ...       NaN      NaN      NaN      NaN        NaN   \n",
            "1  someone else     NaN  ...       NaN      NaN      NaN      NaN        NaN   \n",
            "2  someone else     NaN  ...       NaN      NaN      NaN      NaN        NaN   \n",
            "3  someone else     NaN  ...       NaN      NaN      NaN      NaN        NaN   \n",
            "4  someone else     NaN  ...       NaN      NaN      NaN      NaN        NaN   \n",
            "\n",
            "   wtssnrps_nea  wtssps_next wtssnrps_next wtsscomp wtsscompnr  \n",
            "0           NaN          NaN           NaN   0.4446        NaN  \n",
            "1           NaN          NaN           NaN   0.8893        NaN  \n",
            "2           NaN          NaN           NaN   0.8893        NaN  \n",
            "3           NaN          NaN           NaN   0.8893        NaN  \n",
            "4           NaN          NaN           NaN   0.8893        NaN  \n",
            "\n",
            "[5 rows x 6694 columns]\n",
            "https://github.com/kaykizzzle/ML-project-1/raw/main/gss_chunk_2.parquet\n",
            "   year   id            wrkstat  hrs1  hrs2 evwork    occ  prestige  \\\n",
            "0  1989  775            retired   NaN   NaN    yes  540.0      36.0   \n",
            "1  1989  776  working full time  40.0   NaN    NaN  925.0      36.0   \n",
            "2  1989  777            retired   NaN   NaN    yes   80.0      61.0   \n",
            "3  1989  778  working full time  44.0   NaN    NaN  912.0      26.0   \n",
            "4  1989  779            retired   NaN   NaN    yes  690.0      32.0   \n",
            "\n",
            "         wrkslf wrkgovt  ...  agehef12 agehef13 agehef14  hompoph wtssps_nea  \\\n",
            "0  someone else     NaN  ...       NaN      NaN      NaN      NaN        NaN   \n",
            "1  someone else     NaN  ...       NaN      NaN      NaN      NaN        NaN   \n",
            "2  someone else     NaN  ...       NaN      NaN      NaN      NaN        NaN   \n",
            "3  someone else     NaN  ...       NaN      NaN      NaN      NaN        NaN   \n",
            "4  someone else     NaN  ...       NaN      NaN      NaN      NaN        NaN   \n",
            "\n",
            "   wtssnrps_nea  wtssps_next wtssnrps_next  wtsscomp wtsscompnr  \n",
            "0           NaN          NaN           NaN  1.295069        NaN  \n",
            "1           NaN          NaN           NaN  0.483624        NaN  \n",
            "2           NaN          NaN           NaN  0.407988        NaN  \n",
            "3           NaN          NaN           NaN  1.225988        NaN  \n",
            "4           NaN          NaN           NaN  0.504302        NaN  \n",
            "\n",
            "[5 rows x 6694 columns]\n",
            "https://github.com/kaykizzzle/ML-project-1/raw/main/gss_chunk_3.parquet\n",
            "   year    id            wrkstat  hrs1  hrs2 evwork  occ  prestige  \\\n",
            "0  2006  1751  working full time  40.0   NaN    NaN  NaN       NaN   \n",
            "1  2006  1752          in school   NaN   NaN    yes  NaN       NaN   \n",
            "2  2006  1753  working full time  35.0   NaN    NaN  NaN       NaN   \n",
            "3  2006  1754  working full time  50.0   NaN    NaN  NaN       NaN   \n",
            "4  2006  1755  working full time  40.0   NaN    NaN  NaN       NaN   \n",
            "\n",
            "         wrkslf     wrkgovt  ...  agehef12 agehef13 agehef14  hompoph  \\\n",
            "0  someone else  government  ...       NaN      NaN      NaN      NaN   \n",
            "1  someone else     private  ...       NaN      NaN      NaN      NaN   \n",
            "2  someone else  government  ...       NaN      NaN      NaN      NaN   \n",
            "3  someone else  government  ...       NaN      NaN      NaN      NaN   \n",
            "4  someone else     private  ...       NaN      NaN      NaN      NaN   \n",
            "\n",
            "  wtssps_nea  wtssnrps_nea  wtssps_next wtssnrps_next  wtsscomp wtsscompnr  \n",
            "0        NaN           NaN          NaN           NaN  1.079141   0.961150  \n",
            "1        NaN           NaN          NaN           NaN  7.673834   6.641571  \n",
            "2        NaN           NaN          NaN           NaN  0.584663   0.512145  \n",
            "3        NaN           NaN          NaN           NaN  0.715731   0.637592  \n",
            "4        NaN           NaN          NaN           NaN  1.094831   0.956094  \n",
            "\n",
            "[5 rows x 6694 columns]\n"
          ]
        }
      ],
      "source": [
        "# from get_gss.ipynb, provided code to get just needed variables\n",
        "\n",
        "output_filename = 'selected_gss_data.csv' # Name of the file you want to save the data to\n",
        "\n",
        "modes = ['w','a'] # Has write mode and append mode\n",
        "phase = 0 # Starts in write mode; after one iteration of loop, switches to append mode\n",
        "\n",
        "for k in range(3): # for each chunk of the data\n",
        "    # Create url to the chunk to be processed\n",
        "    url = 'https://github.com/kaykizzzle/ML-project-1/raw/main/gss_chunk_' + str(1+k) + '.parquet'\n",
        "    print(url) # Check the url is correct\n",
        "    df = pd.read_parquet(url) # Download this chunk of data\n",
        "    print(df.head()) # Visually inspect the first few rows\n",
        "    df.loc[:,var_list].to_csv(output_filename, # specifies target file to save the chunk to\n",
        "                              mode=modes[phase], # control write versus append\n",
        "                              header=var_list, # variable names\n",
        "                              index=False) # no row index saved\n",
        "    phase = 1 # Switch from write mode to append mode\n"
      ]
    },
    {
      "cell_type": "markdown",
      "id": "b094cf81-92ef-4c5d-92ad-1c1fa5bfd5a1",
      "metadata": {
        "id": "b094cf81-92ef-4c5d-92ad-1c1fa5bfd5a1"
      },
      "source": [
        "**RUN STARTING FORM HERE**"
      ]
    },
    {
      "cell_type": "markdown",
      "source": [
        "**Relevant Variables:**\n",
        "\n",
        "| Variable | Definition |                       \n",
        "| :---------:| :---------- |  \n",
        "| year     | year observation was taken |  \n",
        "| occ10    | occupation of the patient |  \n",
        "| marital  | participant's marital status |  \n",
        "| martype  | type of marriage             |  \n",
        "| age      | age of the participant       |  \n",
        "| educ     | respondent’s education (numeric variable) |  \n",
        "| major1   | area or field of study when degree was obtained (highest degree obtained)|  \n",
        "| sex      | biological sex            |  \n",
        "| race     | what race the participant considers themselves              |  \n",
        "| satfin   |  participant’s financial satisfaction (considering themselves and their family)|\n",
        "| pres20   | who did the respondent vote for in the 2020 election (Biden or Trump)|  \n",
        "| eqwlth   | should the government reduce income differences (numeric: 1 = the government should reduce income differences; 7 = government should not concern itself with reducing income differences)|        \n",
        "| tax      | thoughts about income tax (too high, too low, or about right)|  \n",
        "| relig    | religious preference |\n",
        "| fepol    | men are better suited emotionally for politics than most women (agree or disagree)|\n",
        "| owngun   | any guns/revolvers in the house (or garage)|\n",
        "| helpnot  |  the government should be doing more (to solve problems in our country) or are they doing too much (puts more emphasis on individuals and private businesses); 1 = government should do more; 3 = agree with both; 5 = government does too much|\n",
        "| sexfreq  | frequency of sexual intercourse over the last 12 months|\n",
        "| childs   | number of children the participant ever had|\n",
        "| helpful  | do people try to be helpful or are they looking out for themselves?|\n",
        "| confinan*  | bank and financial institutions |\n",
        "| conbus*    | major companies|\n",
        "| conclerg*  | organized religion|\n",
        "| coneduc*   | education |\n",
        "| confed*    | executive branch of the federal government|\n",
        "| conlabor*  | organized labor|\n",
        "| conpress*  | press|\n",
        "| conmedic*  | medicine|\n",
        "| conjudge*  | U.S. Supreme Court|\n",
        "| consci*    | scientific community|\n",
        "| conlegis*  | Congress|\n",
        "| conarmy*   | military|\n",
        "\n",
        "(*) These variables measure the respondent's confidence in an institution"
      ],
      "metadata": {
        "id": "b7LgkUOH-j9j"
      },
      "id": "b7LgkUOH-j9j"
    },
    {
      "cell_type": "markdown",
      "id": "c08a0ba4-8b83-4c30-873e-559094dcea6b",
      "metadata": {
        "id": "c08a0ba4-8b83-4c30-873e-559094dcea6b"
      },
      "source": [
        "**Data Cleaning:**"
      ]
    },
    {
      "cell_type": "code",
      "execution_count": 2,
      "id": "fc41bbad-c13f-4faa-832d-92919ded7e56",
      "metadata": {
        "id": "fc41bbad-c13f-4faa-832d-92919ded7e56",
        "outputId": "9cebcf8b-f684-4744-b120-3ea201d12907",
        "colab": {
          "base_uri": "https://localhost:8080/",
          "height": 356
        }
      },
      "outputs": [
        {
          "output_type": "error",
          "ename": "FileNotFoundError",
          "evalue": "[Errno 2] No such file or directory: 'selected_gss_data.csv'",
          "traceback": [
            "\u001b[0;31m---------------------------------------------------------------------------\u001b[0m",
            "\u001b[0;31mFileNotFoundError\u001b[0m                         Traceback (most recent call last)",
            "\u001b[0;32m<ipython-input-2-8d9e98739db5>\u001b[0m in \u001b[0;36m<cell line: 8>\u001b[0;34m()\u001b[0m\n\u001b[1;32m      6\u001b[0m \u001b[0;34m\u001b[0m\u001b[0m\n\u001b[1;32m      7\u001b[0m \u001b[0;31m# imports selected gss data from csv file\u001b[0m\u001b[0;34m\u001b[0m\u001b[0;34m\u001b[0m\u001b[0m\n\u001b[0;32m----> 8\u001b[0;31m \u001b[0mdf\u001b[0m \u001b[0;34m=\u001b[0m \u001b[0mpd\u001b[0m\u001b[0;34m.\u001b[0m\u001b[0mread_csv\u001b[0m\u001b[0;34m(\u001b[0m\u001b[0;34m'selected_gss_data.csv'\u001b[0m\u001b[0;34m,\u001b[0m\u001b[0mlow_memory\u001b[0m\u001b[0;34m=\u001b[0m\u001b[0;32mFalse\u001b[0m\u001b[0;34m)\u001b[0m\u001b[0;34m\u001b[0m\u001b[0;34m\u001b[0m\u001b[0m\n\u001b[0m\u001b[1;32m      9\u001b[0m \u001b[0;34m\u001b[0m\u001b[0m\n\u001b[1;32m     10\u001b[0m \u001b[0;31m# List of variables\u001b[0m\u001b[0;34m\u001b[0m\u001b[0;34m\u001b[0m\u001b[0m\n",
            "\u001b[0;32m/usr/local/lib/python3.10/dist-packages/pandas/util/_decorators.py\u001b[0m in \u001b[0;36mwrapper\u001b[0;34m(*args, **kwargs)\u001b[0m\n\u001b[1;32m    209\u001b[0m                 \u001b[0;32melse\u001b[0m\u001b[0;34m:\u001b[0m\u001b[0;34m\u001b[0m\u001b[0;34m\u001b[0m\u001b[0m\n\u001b[1;32m    210\u001b[0m                     \u001b[0mkwargs\u001b[0m\u001b[0;34m[\u001b[0m\u001b[0mnew_arg_name\u001b[0m\u001b[0;34m]\u001b[0m \u001b[0;34m=\u001b[0m \u001b[0mnew_arg_value\u001b[0m\u001b[0;34m\u001b[0m\u001b[0;34m\u001b[0m\u001b[0m\n\u001b[0;32m--> 211\u001b[0;31m             \u001b[0;32mreturn\u001b[0m \u001b[0mfunc\u001b[0m\u001b[0;34m(\u001b[0m\u001b[0;34m*\u001b[0m\u001b[0margs\u001b[0m\u001b[0;34m,\u001b[0m \u001b[0;34m**\u001b[0m\u001b[0mkwargs\u001b[0m\u001b[0;34m)\u001b[0m\u001b[0;34m\u001b[0m\u001b[0;34m\u001b[0m\u001b[0m\n\u001b[0m\u001b[1;32m    212\u001b[0m \u001b[0;34m\u001b[0m\u001b[0m\n\u001b[1;32m    213\u001b[0m         \u001b[0;32mreturn\u001b[0m \u001b[0mcast\u001b[0m\u001b[0;34m(\u001b[0m\u001b[0mF\u001b[0m\u001b[0;34m,\u001b[0m \u001b[0mwrapper\u001b[0m\u001b[0;34m)\u001b[0m\u001b[0;34m\u001b[0m\u001b[0;34m\u001b[0m\u001b[0m\n",
            "\u001b[0;32m/usr/local/lib/python3.10/dist-packages/pandas/util/_decorators.py\u001b[0m in \u001b[0;36mwrapper\u001b[0;34m(*args, **kwargs)\u001b[0m\n\u001b[1;32m    329\u001b[0m                     \u001b[0mstacklevel\u001b[0m\u001b[0;34m=\u001b[0m\u001b[0mfind_stack_level\u001b[0m\u001b[0;34m(\u001b[0m\u001b[0;34m)\u001b[0m\u001b[0;34m,\u001b[0m\u001b[0;34m\u001b[0m\u001b[0;34m\u001b[0m\u001b[0m\n\u001b[1;32m    330\u001b[0m                 )\n\u001b[0;32m--> 331\u001b[0;31m             \u001b[0;32mreturn\u001b[0m \u001b[0mfunc\u001b[0m\u001b[0;34m(\u001b[0m\u001b[0;34m*\u001b[0m\u001b[0margs\u001b[0m\u001b[0;34m,\u001b[0m \u001b[0;34m**\u001b[0m\u001b[0mkwargs\u001b[0m\u001b[0;34m)\u001b[0m\u001b[0;34m\u001b[0m\u001b[0;34m\u001b[0m\u001b[0m\n\u001b[0m\u001b[1;32m    332\u001b[0m \u001b[0;34m\u001b[0m\u001b[0m\n\u001b[1;32m    333\u001b[0m         \u001b[0;31m# error: \"Callable[[VarArg(Any), KwArg(Any)], Any]\" has no\u001b[0m\u001b[0;34m\u001b[0m\u001b[0;34m\u001b[0m\u001b[0m\n",
            "\u001b[0;32m/usr/local/lib/python3.10/dist-packages/pandas/io/parsers/readers.py\u001b[0m in \u001b[0;36mread_csv\u001b[0;34m(filepath_or_buffer, sep, delimiter, header, names, index_col, usecols, squeeze, prefix, mangle_dupe_cols, dtype, engine, converters, true_values, false_values, skipinitialspace, skiprows, skipfooter, nrows, na_values, keep_default_na, na_filter, verbose, skip_blank_lines, parse_dates, infer_datetime_format, keep_date_col, date_parser, dayfirst, cache_dates, iterator, chunksize, compression, thousands, decimal, lineterminator, quotechar, quoting, doublequote, escapechar, comment, encoding, encoding_errors, dialect, error_bad_lines, warn_bad_lines, on_bad_lines, delim_whitespace, low_memory, memory_map, float_precision, storage_options)\u001b[0m\n\u001b[1;32m    948\u001b[0m     \u001b[0mkwds\u001b[0m\u001b[0;34m.\u001b[0m\u001b[0mupdate\u001b[0m\u001b[0;34m(\u001b[0m\u001b[0mkwds_defaults\u001b[0m\u001b[0;34m)\u001b[0m\u001b[0;34m\u001b[0m\u001b[0;34m\u001b[0m\u001b[0m\n\u001b[1;32m    949\u001b[0m \u001b[0;34m\u001b[0m\u001b[0m\n\u001b[0;32m--> 950\u001b[0;31m     \u001b[0;32mreturn\u001b[0m \u001b[0m_read\u001b[0m\u001b[0;34m(\u001b[0m\u001b[0mfilepath_or_buffer\u001b[0m\u001b[0;34m,\u001b[0m \u001b[0mkwds\u001b[0m\u001b[0;34m)\u001b[0m\u001b[0;34m\u001b[0m\u001b[0;34m\u001b[0m\u001b[0m\n\u001b[0m\u001b[1;32m    951\u001b[0m \u001b[0;34m\u001b[0m\u001b[0m\n\u001b[1;32m    952\u001b[0m \u001b[0;34m\u001b[0m\u001b[0m\n",
            "\u001b[0;32m/usr/local/lib/python3.10/dist-packages/pandas/io/parsers/readers.py\u001b[0m in \u001b[0;36m_read\u001b[0;34m(filepath_or_buffer, kwds)\u001b[0m\n\u001b[1;32m    603\u001b[0m \u001b[0;34m\u001b[0m\u001b[0m\n\u001b[1;32m    604\u001b[0m     \u001b[0;31m# Create the parser.\u001b[0m\u001b[0;34m\u001b[0m\u001b[0;34m\u001b[0m\u001b[0m\n\u001b[0;32m--> 605\u001b[0;31m     \u001b[0mparser\u001b[0m \u001b[0;34m=\u001b[0m \u001b[0mTextFileReader\u001b[0m\u001b[0;34m(\u001b[0m\u001b[0mfilepath_or_buffer\u001b[0m\u001b[0;34m,\u001b[0m \u001b[0;34m**\u001b[0m\u001b[0mkwds\u001b[0m\u001b[0;34m)\u001b[0m\u001b[0;34m\u001b[0m\u001b[0;34m\u001b[0m\u001b[0m\n\u001b[0m\u001b[1;32m    606\u001b[0m \u001b[0;34m\u001b[0m\u001b[0m\n\u001b[1;32m    607\u001b[0m     \u001b[0;32mif\u001b[0m \u001b[0mchunksize\u001b[0m \u001b[0;32mor\u001b[0m \u001b[0miterator\u001b[0m\u001b[0;34m:\u001b[0m\u001b[0;34m\u001b[0m\u001b[0;34m\u001b[0m\u001b[0m\n",
            "\u001b[0;32m/usr/local/lib/python3.10/dist-packages/pandas/io/parsers/readers.py\u001b[0m in \u001b[0;36m__init__\u001b[0;34m(self, f, engine, **kwds)\u001b[0m\n\u001b[1;32m   1440\u001b[0m \u001b[0;34m\u001b[0m\u001b[0m\n\u001b[1;32m   1441\u001b[0m         \u001b[0mself\u001b[0m\u001b[0;34m.\u001b[0m\u001b[0mhandles\u001b[0m\u001b[0;34m:\u001b[0m \u001b[0mIOHandles\u001b[0m \u001b[0;34m|\u001b[0m \u001b[0;32mNone\u001b[0m \u001b[0;34m=\u001b[0m \u001b[0;32mNone\u001b[0m\u001b[0;34m\u001b[0m\u001b[0;34m\u001b[0m\u001b[0m\n\u001b[0;32m-> 1442\u001b[0;31m         \u001b[0mself\u001b[0m\u001b[0;34m.\u001b[0m\u001b[0m_engine\u001b[0m \u001b[0;34m=\u001b[0m \u001b[0mself\u001b[0m\u001b[0;34m.\u001b[0m\u001b[0m_make_engine\u001b[0m\u001b[0;34m(\u001b[0m\u001b[0mf\u001b[0m\u001b[0;34m,\u001b[0m \u001b[0mself\u001b[0m\u001b[0;34m.\u001b[0m\u001b[0mengine\u001b[0m\u001b[0;34m)\u001b[0m\u001b[0;34m\u001b[0m\u001b[0;34m\u001b[0m\u001b[0m\n\u001b[0m\u001b[1;32m   1443\u001b[0m \u001b[0;34m\u001b[0m\u001b[0m\n\u001b[1;32m   1444\u001b[0m     \u001b[0;32mdef\u001b[0m \u001b[0mclose\u001b[0m\u001b[0;34m(\u001b[0m\u001b[0mself\u001b[0m\u001b[0;34m)\u001b[0m \u001b[0;34m->\u001b[0m \u001b[0;32mNone\u001b[0m\u001b[0;34m:\u001b[0m\u001b[0;34m\u001b[0m\u001b[0;34m\u001b[0m\u001b[0m\n",
            "\u001b[0;32m/usr/local/lib/python3.10/dist-packages/pandas/io/parsers/readers.py\u001b[0m in \u001b[0;36m_make_engine\u001b[0;34m(self, f, engine)\u001b[0m\n\u001b[1;32m   1733\u001b[0m                 \u001b[0;32mif\u001b[0m \u001b[0;34m\"b\"\u001b[0m \u001b[0;32mnot\u001b[0m \u001b[0;32min\u001b[0m \u001b[0mmode\u001b[0m\u001b[0;34m:\u001b[0m\u001b[0;34m\u001b[0m\u001b[0;34m\u001b[0m\u001b[0m\n\u001b[1;32m   1734\u001b[0m                     \u001b[0mmode\u001b[0m \u001b[0;34m+=\u001b[0m \u001b[0;34m\"b\"\u001b[0m\u001b[0;34m\u001b[0m\u001b[0;34m\u001b[0m\u001b[0m\n\u001b[0;32m-> 1735\u001b[0;31m             self.handles = get_handle(\n\u001b[0m\u001b[1;32m   1736\u001b[0m                 \u001b[0mf\u001b[0m\u001b[0;34m,\u001b[0m\u001b[0;34m\u001b[0m\u001b[0;34m\u001b[0m\u001b[0m\n\u001b[1;32m   1737\u001b[0m                 \u001b[0mmode\u001b[0m\u001b[0;34m,\u001b[0m\u001b[0;34m\u001b[0m\u001b[0;34m\u001b[0m\u001b[0m\n",
            "\u001b[0;32m/usr/local/lib/python3.10/dist-packages/pandas/io/common.py\u001b[0m in \u001b[0;36mget_handle\u001b[0;34m(path_or_buf, mode, encoding, compression, memory_map, is_text, errors, storage_options)\u001b[0m\n\u001b[1;32m    854\u001b[0m         \u001b[0;32mif\u001b[0m \u001b[0mioargs\u001b[0m\u001b[0;34m.\u001b[0m\u001b[0mencoding\u001b[0m \u001b[0;32mand\u001b[0m \u001b[0;34m\"b\"\u001b[0m \u001b[0;32mnot\u001b[0m \u001b[0;32min\u001b[0m \u001b[0mioargs\u001b[0m\u001b[0;34m.\u001b[0m\u001b[0mmode\u001b[0m\u001b[0;34m:\u001b[0m\u001b[0;34m\u001b[0m\u001b[0;34m\u001b[0m\u001b[0m\n\u001b[1;32m    855\u001b[0m             \u001b[0;31m# Encoding\u001b[0m\u001b[0;34m\u001b[0m\u001b[0;34m\u001b[0m\u001b[0m\n\u001b[0;32m--> 856\u001b[0;31m             handle = open(\n\u001b[0m\u001b[1;32m    857\u001b[0m                 \u001b[0mhandle\u001b[0m\u001b[0;34m,\u001b[0m\u001b[0;34m\u001b[0m\u001b[0;34m\u001b[0m\u001b[0m\n\u001b[1;32m    858\u001b[0m                 \u001b[0mioargs\u001b[0m\u001b[0;34m.\u001b[0m\u001b[0mmode\u001b[0m\u001b[0;34m,\u001b[0m\u001b[0;34m\u001b[0m\u001b[0;34m\u001b[0m\u001b[0m\n",
            "\u001b[0;31mFileNotFoundError\u001b[0m: [Errno 2] No such file or directory: 'selected_gss_data.csv'"
          ]
        }
      ],
      "source": [
        "# import relevant packages, RUN THIS and code chunks below\n",
        "import numpy as np\n",
        "import seaborn as sns\n",
        "import matplotlib.pyplot as plt\n",
        "import pandas as pd\n",
        "\n",
        "# imports selected gss data from csv file\n",
        "df = pd.read_csv('selected_gss_data.csv',low_memory=False)\n",
        "\n",
        "# List of variables\n",
        "var_list = ['year','occ10','marital','martype','age','educ','major1','sex','race','satfin','pres20','eqwlth','tax','relig','confinan','conbus','conclerg','coneduc','confed','conlabor','conpress','conmedic','conjudge','consci','conlegis','conarmy','conpharvac','fepol','owngun','helpnot','hlthdep','hlthconf','sexfreq','childs','helpful']"
      ]
    },
    {
      "cell_type": "code",
      "execution_count": null,
      "id": "5ec550e6-26d3-472e-83a7-d5fa1ae81dbc",
      "metadata": {
        "tags": [],
        "id": "5ec550e6-26d3-472e-83a7-d5fa1ae81dbc",
        "outputId": "06fcb068-54bf-451f-b157-7e536fc5888f"
      },
      "outputs": [
        {
          "data": {
            "text/plain": [
              "(72392, 35)"
            ]
          },
          "execution_count": 132,
          "metadata": {},
          "output_type": "execute_result"
        }
      ],
      "source": [
        "df.shape"
      ]
    },
    {
      "cell_type": "code",
      "execution_count": null,
      "id": "a635e45e-e869-486d-8ab6-2a2bc0fc85a9",
      "metadata": {
        "tags": [],
        "id": "a635e45e-e869-486d-8ab6-2a2bc0fc85a9",
        "outputId": "279ea30e-3b0c-4b42-df1a-b750b701f313"
      },
      "outputs": [
        {
          "data": {
            "text/html": [
              "<div>\n",
              "<style scoped>\n",
              "    .dataframe tbody tr th:only-of-type {\n",
              "        vertical-align: middle;\n",
              "    }\n",
              "\n",
              "    .dataframe tbody tr th {\n",
              "        vertical-align: top;\n",
              "    }\n",
              "\n",
              "    .dataframe thead th {\n",
              "        text-align: right;\n",
              "    }\n",
              "</style>\n",
              "<table border=\"1\" class=\"dataframe\">\n",
              "  <thead>\n",
              "    <tr style=\"text-align: right;\">\n",
              "      <th></th>\n",
              "      <th>year</th>\n",
              "      <th>occ10</th>\n",
              "      <th>marital</th>\n",
              "      <th>martype</th>\n",
              "      <th>age</th>\n",
              "      <th>educ</th>\n",
              "      <th>major1</th>\n",
              "      <th>sex</th>\n",
              "      <th>race</th>\n",
              "      <th>satfin</th>\n",
              "      <th>pres20</th>\n",
              "      <th>eqwlth</th>\n",
              "      <th>tax</th>\n",
              "      <th>relig</th>\n",
              "      <th>confinan</th>\n",
              "      <th>conbus</th>\n",
              "      <th>conclerg</th>\n",
              "      <th>coneduc</th>\n",
              "      <th>confed</th>\n",
              "      <th>conlabor</th>\n",
              "      <th>conpress</th>\n",
              "      <th>conmedic</th>\n",
              "      <th>conjudge</th>\n",
              "      <th>consci</th>\n",
              "      <th>conlegis</th>\n",
              "      <th>conarmy</th>\n",
              "      <th>conpharvac</th>\n",
              "      <th>fepol</th>\n",
              "      <th>owngun</th>\n",
              "      <th>helpnot</th>\n",
              "      <th>hlthdep</th>\n",
              "      <th>hlthconf</th>\n",
              "      <th>sexfreq</th>\n",
              "      <th>childs</th>\n",
              "      <th>helpful</th>\n",
              "    </tr>\n",
              "  </thead>\n",
              "  <tbody>\n",
              "    <tr>\n",
              "      <th>count</th>\n",
              "      <td>72392</td>\n",
              "      <td>67254</td>\n",
              "      <td>72341</td>\n",
              "      <td>5076</td>\n",
              "      <td>71623</td>\n",
              "      <td>72129</td>\n",
              "      <td>7227</td>\n",
              "      <td>72280</td>\n",
              "      <td>72285</td>\n",
              "      <td>67724</td>\n",
              "      <td>2398</td>\n",
              "      <td>38760</td>\n",
              "      <td>40250</td>\n",
              "      <td>71955</td>\n",
              "      <td>45241</td>\n",
              "      <td>47260</td>\n",
              "      <td>47383</td>\n",
              "      <td>48402</td>\n",
              "      <td>47729</td>\n",
              "      <td>46405</td>\n",
              "      <td>48085</td>\n",
              "      <td>48503</td>\n",
              "      <td>47168</td>\n",
              "      <td>45754</td>\n",
              "      <td>47700</td>\n",
              "      <td>47804</td>\n",
              "      <td>1164</td>\n",
              "      <td>35699</td>\n",
              "      <td>45865</td>\n",
              "      <td>36777</td>\n",
              "      <td>1129</td>\n",
              "      <td>1134</td>\n",
              "      <td>34521</td>\n",
              "      <td>72131</td>\n",
              "      <td>42221</td>\n",
              "    </tr>\n",
              "    <tr>\n",
              "      <th>unique</th>\n",
              "      <td>35</td>\n",
              "      <td>534</td>\n",
              "      <td>6</td>\n",
              "      <td>4</td>\n",
              "      <td>73</td>\n",
              "      <td>22</td>\n",
              "      <td>82</td>\n",
              "      <td>3</td>\n",
              "      <td>4</td>\n",
              "      <td>4</td>\n",
              "      <td>5</td>\n",
              "      <td>8</td>\n",
              "      <td>5</td>\n",
              "      <td>14</td>\n",
              "      <td>4</td>\n",
              "      <td>4</td>\n",
              "      <td>4</td>\n",
              "      <td>4</td>\n",
              "      <td>4</td>\n",
              "      <td>4</td>\n",
              "      <td>4</td>\n",
              "      <td>4</td>\n",
              "      <td>4</td>\n",
              "      <td>4</td>\n",
              "      <td>4</td>\n",
              "      <td>4</td>\n",
              "      <td>4</td>\n",
              "      <td>3</td>\n",
              "      <td>4</td>\n",
              "      <td>6</td>\n",
              "      <td>6</td>\n",
              "      <td>6</td>\n",
              "      <td>8</td>\n",
              "      <td>10</td>\n",
              "      <td>4</td>\n",
              "    </tr>\n",
              "    <tr>\n",
              "      <th>top</th>\n",
              "      <td>2006</td>\n",
              "      <td>secretaries and administrative assistants</td>\n",
              "      <td>married</td>\n",
              "      <td>marriage between a man and a woman</td>\n",
              "      <td>30.0</td>\n",
              "      <td>12.0</td>\n",
              "      <td>business administration</td>\n",
              "      <td>female</td>\n",
              "      <td>white</td>\n",
              "      <td>more or less satisfied</td>\n",
              "      <td>biden</td>\n",
              "      <td>1.0</td>\n",
              "      <td>too high</td>\n",
              "      <td>protestant</td>\n",
              "      <td>only some</td>\n",
              "      <td>only some</td>\n",
              "      <td>only some</td>\n",
              "      <td>only some</td>\n",
              "      <td>only some</td>\n",
              "      <td>only some</td>\n",
              "      <td>only some</td>\n",
              "      <td>only some</td>\n",
              "      <td>only some</td>\n",
              "      <td>only some</td>\n",
              "      <td>only some</td>\n",
              "      <td>only some</td>\n",
              "      <td>a great deal</td>\n",
              "      <td>disagree</td>\n",
              "      <td>no</td>\n",
              "      <td>3.0</td>\n",
              "      <td>never</td>\n",
              "      <td>never</td>\n",
              "      <td>not at all</td>\n",
              "      <td>0.0</td>\n",
              "      <td>try to be helpful</td>\n",
              "    </tr>\n",
              "    <tr>\n",
              "      <th>freq</th>\n",
              "      <td>4510</td>\n",
              "      <td>2727</td>\n",
              "      <td>37590</td>\n",
              "      <td>4999</td>\n",
              "      <td>1571</td>\n",
              "      <td>21401</td>\n",
              "      <td>1072</td>\n",
              "      <td>40301</td>\n",
              "      <td>57657</td>\n",
              "      <td>29987</td>\n",
              "      <td>1417</td>\n",
              "      <td>8386</td>\n",
              "      <td>24553</td>\n",
              "      <td>40125</td>\n",
              "      <td>25437</td>\n",
              "      <td>29007</td>\n",
              "      <td>24226</td>\n",
              "      <td>27230</td>\n",
              "      <td>23870</td>\n",
              "      <td>26278</td>\n",
              "      <td>24600</td>\n",
              "      <td>22308</td>\n",
              "      <td>24735</td>\n",
              "      <td>22537</td>\n",
              "      <td>25874</td>\n",
              "      <td>22099</td>\n",
              "      <td>541</td>\n",
              "      <td>25715</td>\n",
              "      <td>27551</td>\n",
              "      <td>14779</td>\n",
              "      <td>386</td>\n",
              "      <td>556</td>\n",
              "      <td>7977</td>\n",
              "      <td>19927</td>\n",
              "      <td>20466</td>\n",
              "    </tr>\n",
              "  </tbody>\n",
              "</table>\n",
              "</div>"
            ],
            "text/plain": [
              "         year                                      occ10  marital  \\\n",
              "count   72392                                      67254    72341   \n",
              "unique     35                                        534        6   \n",
              "top      2006  secretaries and administrative assistants  married   \n",
              "freq     4510                                       2727    37590   \n",
              "\n",
              "                                   martype    age   educ  \\\n",
              "count                                 5076  71623  72129   \n",
              "unique                                   4     73     22   \n",
              "top     marriage between a man and a woman   30.0   12.0   \n",
              "freq                                  4999   1571  21401   \n",
              "\n",
              "                         major1     sex   race                  satfin pres20  \\\n",
              "count                      7227   72280  72285                   67724   2398   \n",
              "unique                       82       3      4                       4      5   \n",
              "top     business administration  female  white  more or less satisfied  biden   \n",
              "freq                       1072   40301  57657                   29987   1417   \n",
              "\n",
              "       eqwlth       tax       relig   confinan     conbus   conclerg  \\\n",
              "count   38760     40250       71955      45241      47260      47383   \n",
              "unique      8         5          14          4          4          4   \n",
              "top       1.0  too high  protestant  only some  only some  only some   \n",
              "freq     8386     24553       40125      25437      29007      24226   \n",
              "\n",
              "          coneduc     confed   conlabor   conpress   conmedic   conjudge  \\\n",
              "count       48402      47729      46405      48085      48503      47168   \n",
              "unique          4          4          4          4          4          4   \n",
              "top     only some  only some  only some  only some  only some  only some   \n",
              "freq        27230      23870      26278      24600      22308      24735   \n",
              "\n",
              "           consci   conlegis    conarmy    conpharvac     fepol owngun  \\\n",
              "count       45754      47700      47804          1164     35699  45865   \n",
              "unique          4          4          4             4         3      4   \n",
              "top     only some  only some  only some  a great deal  disagree     no   \n",
              "freq        22537      25874      22099           541     25715  27551   \n",
              "\n",
              "       helpnot hlthdep hlthconf     sexfreq childs            helpful  \n",
              "count    36777    1129     1134       34521  72131              42221  \n",
              "unique       6       6        6           8     10                  4  \n",
              "top        3.0   never    never  not at all    0.0  try to be helpful  \n",
              "freq     14779     386      556        7977  19927              20466  "
            ]
          },
          "execution_count": 133,
          "metadata": {},
          "output_type": "execute_result"
        }
      ],
      "source": [
        "df.describe()"
      ]
    },
    {
      "cell_type": "code",
      "execution_count": null,
      "id": "2f9e5994-1dad-42b8-8774-ab63c35b5b5b",
      "metadata": {
        "tags": [],
        "id": "2f9e5994-1dad-42b8-8774-ab63c35b5b5b"
      },
      "outputs": [],
      "source": [
        "# remove 2 instances of 'varname' from varname from every variable\n",
        "for var in var_list:\n",
        "    string = str(var)\n",
        "    df[string] = df[string].replace(string,np.nan)\n",
        "\n",
        "df['owngun'] = df['owngun'].replace('refused_(3)', 'refused') # rename confusing variable name"
      ]
    },
    {
      "cell_type": "markdown",
      "id": "83f0b63e-a28a-48d1-ada3-b4161f7807f2",
      "metadata": {
        "id": "83f0b63e-a28a-48d1-ada3-b4161f7807f2"
      },
      "source": [
        "> The data are actually pretty clean besides the 2 weird instances of the var name in most of the variables. While not shown here for space/repition reasons, every variable was looked at with 'value_counts()' and 'describe()'. Additional cleaning is more dependent on what questions are asked and what variables are analyzed. There are a large number of NANs because some of the questions are not asked every year. The confidence questions (our main analysis variables) generally have 40-50k responses (except 'conpharvac'), so it is likely we will only look at the observations that have responses for those questions by narrowing the data with the 'year' variable."
      ]
    },
    {
      "cell_type": "code",
      "execution_count": null,
      "id": "530333ab-524a-4169-87ee-0c0170b54939",
      "metadata": {
        "tags": [],
        "id": "530333ab-524a-4169-87ee-0c0170b54939"
      },
      "outputs": [],
      "source": [
        "# creating data subset of years that have responses to confidence questions (1973-1984 && 1986-2022)\n",
        "start_year_index1 = df[df.year == '1973'].index[0]\n",
        "end_year_index1 = df[df.year == '1985'].index[0]\n",
        "start_year_index2 = df[df.year == '1986'].index[0]\n",
        "\n",
        "df_subset1 = df.iloc[int(start_year_index1):int(end_year_index1)] # first data subset from 1973-1984\n",
        "df_subset2 = df.iloc[int(start_year_index2):-1] # second data subset from 1986-2022\n",
        "df_subset = pd.concat([df_subset1,df_subset2]) # merges both subsets into complete dataset with years where confidence questions were asked\n",
        "\n",
        "pd.set_option('display.max_columns', None) # makes sure all columns are displayed"
      ]
    },
    {
      "cell_type": "code",
      "execution_count": null,
      "id": "1354bbe2-dcfe-42f3-b440-57830f9cea8b",
      "metadata": {
        "tags": [],
        "id": "1354bbe2-dcfe-42f3-b440-57830f9cea8b",
        "outputId": "1e1d3b19-f662-4c48-8321-12d093bff07b"
      },
      "outputs": [
        {
          "name": "stdout",
          "output_type": "stream",
          "text": [
            "(69244, 32)\n"
          ]
        },
        {
          "data": {
            "text/html": [
              "<div>\n",
              "<style scoped>\n",
              "    .dataframe tbody tr th:only-of-type {\n",
              "        vertical-align: middle;\n",
              "    }\n",
              "\n",
              "    .dataframe tbody tr th {\n",
              "        vertical-align: top;\n",
              "    }\n",
              "\n",
              "    .dataframe thead th {\n",
              "        text-align: right;\n",
              "    }\n",
              "</style>\n",
              "<table border=\"1\" class=\"dataframe\">\n",
              "  <thead>\n",
              "    <tr style=\"text-align: right;\">\n",
              "      <th></th>\n",
              "      <th>year</th>\n",
              "      <th>occ10</th>\n",
              "      <th>marital</th>\n",
              "      <th>martype</th>\n",
              "      <th>age</th>\n",
              "      <th>educ</th>\n",
              "      <th>major1</th>\n",
              "      <th>sex</th>\n",
              "      <th>race</th>\n",
              "      <th>satfin</th>\n",
              "      <th>pres20</th>\n",
              "      <th>eqwlth</th>\n",
              "      <th>tax</th>\n",
              "      <th>relig</th>\n",
              "      <th>confinan</th>\n",
              "      <th>conbus</th>\n",
              "      <th>conclerg</th>\n",
              "      <th>coneduc</th>\n",
              "      <th>confed</th>\n",
              "      <th>conlabor</th>\n",
              "      <th>conpress</th>\n",
              "      <th>conmedic</th>\n",
              "      <th>conjudge</th>\n",
              "      <th>consci</th>\n",
              "      <th>conlegis</th>\n",
              "      <th>conarmy</th>\n",
              "      <th>fepol</th>\n",
              "      <th>owngun</th>\n",
              "      <th>helpnot</th>\n",
              "      <th>sexfreq</th>\n",
              "      <th>childs</th>\n",
              "      <th>helpful</th>\n",
              "    </tr>\n",
              "  </thead>\n",
              "  <tbody>\n",
              "    <tr>\n",
              "      <th>count</th>\n",
              "      <td>69242</td>\n",
              "      <td>64558</td>\n",
              "      <td>69191</td>\n",
              "      <td>5073</td>\n",
              "      <td>68485</td>\n",
              "      <td>68984</td>\n",
              "      <td>7224</td>\n",
              "      <td>69130</td>\n",
              "      <td>69135</td>\n",
              "      <td>64588</td>\n",
              "      <td>2395</td>\n",
              "      <td>38757</td>\n",
              "      <td>38764</td>\n",
              "      <td>68815</td>\n",
              "      <td>45238</td>\n",
              "      <td>47257</td>\n",
              "      <td>47380</td>\n",
              "      <td>48399</td>\n",
              "      <td>47726</td>\n",
              "      <td>46402</td>\n",
              "      <td>48082</td>\n",
              "      <td>48500</td>\n",
              "      <td>47165</td>\n",
              "      <td>45751</td>\n",
              "      <td>47697</td>\n",
              "      <td>47801</td>\n",
              "      <td>34230</td>\n",
              "      <td>44333</td>\n",
              "      <td>36774</td>\n",
              "      <td>34518</td>\n",
              "      <td>68993</td>\n",
              "      <td>40629</td>\n",
              "    </tr>\n",
              "    <tr>\n",
              "      <th>unique</th>\n",
              "      <td>32</td>\n",
              "      <td>533</td>\n",
              "      <td>5</td>\n",
              "      <td>3</td>\n",
              "      <td>72</td>\n",
              "      <td>21</td>\n",
              "      <td>81</td>\n",
              "      <td>2</td>\n",
              "      <td>3</td>\n",
              "      <td>3</td>\n",
              "      <td>4</td>\n",
              "      <td>7</td>\n",
              "      <td>4</td>\n",
              "      <td>13</td>\n",
              "      <td>3</td>\n",
              "      <td>3</td>\n",
              "      <td>3</td>\n",
              "      <td>3</td>\n",
              "      <td>3</td>\n",
              "      <td>3</td>\n",
              "      <td>3</td>\n",
              "      <td>3</td>\n",
              "      <td>3</td>\n",
              "      <td>3</td>\n",
              "      <td>3</td>\n",
              "      <td>3</td>\n",
              "      <td>2</td>\n",
              "      <td>3</td>\n",
              "      <td>5</td>\n",
              "      <td>7</td>\n",
              "      <td>9</td>\n",
              "      <td>3</td>\n",
              "    </tr>\n",
              "    <tr>\n",
              "      <th>top</th>\n",
              "      <td>2006</td>\n",
              "      <td>secretaries and administrative assistants</td>\n",
              "      <td>married</td>\n",
              "      <td>marriage between a man and a woman</td>\n",
              "      <td>32.0</td>\n",
              "      <td>12.0</td>\n",
              "      <td>business administration</td>\n",
              "      <td>female</td>\n",
              "      <td>white</td>\n",
              "      <td>more or less satisfied</td>\n",
              "      <td>biden</td>\n",
              "      <td>1.0</td>\n",
              "      <td>too high</td>\n",
              "      <td>protestant</td>\n",
              "      <td>only some</td>\n",
              "      <td>only some</td>\n",
              "      <td>only some</td>\n",
              "      <td>only some</td>\n",
              "      <td>only some</td>\n",
              "      <td>only some</td>\n",
              "      <td>only some</td>\n",
              "      <td>only some</td>\n",
              "      <td>only some</td>\n",
              "      <td>only some</td>\n",
              "      <td>only some</td>\n",
              "      <td>only some</td>\n",
              "      <td>disagree</td>\n",
              "      <td>no</td>\n",
              "      <td>3.0</td>\n",
              "      <td>not at all</td>\n",
              "      <td>0.0</td>\n",
              "      <td>try to be helpful</td>\n",
              "    </tr>\n",
              "    <tr>\n",
              "      <th>freq</th>\n",
              "      <td>4510</td>\n",
              "      <td>2581</td>\n",
              "      <td>35558</td>\n",
              "      <td>4998</td>\n",
              "      <td>1492</td>\n",
              "      <td>20383</td>\n",
              "      <td>1072</td>\n",
              "      <td>38649</td>\n",
              "      <td>54970</td>\n",
              "      <td>28596</td>\n",
              "      <td>1416</td>\n",
              "      <td>8386</td>\n",
              "      <td>23628</td>\n",
              "      <td>38139</td>\n",
              "      <td>25436</td>\n",
              "      <td>29006</td>\n",
              "      <td>24225</td>\n",
              "      <td>27229</td>\n",
              "      <td>23869</td>\n",
              "      <td>26277</td>\n",
              "      <td>24600</td>\n",
              "      <td>22308</td>\n",
              "      <td>24735</td>\n",
              "      <td>22537</td>\n",
              "      <td>25873</td>\n",
              "      <td>22099</td>\n",
              "      <td>24814</td>\n",
              "      <td>26709</td>\n",
              "      <td>14778</td>\n",
              "      <td>7977</td>\n",
              "      <td>19124</td>\n",
              "      <td>19716</td>\n",
              "    </tr>\n",
              "  </tbody>\n",
              "</table>\n",
              "</div>"
            ],
            "text/plain": [
              "         year                                      occ10  marital  \\\n",
              "count   69242                                      64558    69191   \n",
              "unique     32                                        533        5   \n",
              "top      2006  secretaries and administrative assistants  married   \n",
              "freq     4510                                       2581    35558   \n",
              "\n",
              "                                   martype    age   educ  \\\n",
              "count                                 5073  68485  68984   \n",
              "unique                                   3     72     21   \n",
              "top     marriage between a man and a woman   32.0   12.0   \n",
              "freq                                  4998   1492  20383   \n",
              "\n",
              "                         major1     sex   race                  satfin pres20  \\\n",
              "count                      7224   69130  69135                   64588   2395   \n",
              "unique                       81       2      3                       3      4   \n",
              "top     business administration  female  white  more or less satisfied  biden   \n",
              "freq                       1072   38649  54970                   28596   1416   \n",
              "\n",
              "       eqwlth       tax       relig   confinan     conbus   conclerg  \\\n",
              "count   38757     38764       68815      45238      47257      47380   \n",
              "unique      7         4          13          3          3          3   \n",
              "top       1.0  too high  protestant  only some  only some  only some   \n",
              "freq     8386     23628       38139      25436      29006      24225   \n",
              "\n",
              "          coneduc     confed   conlabor   conpress   conmedic   conjudge  \\\n",
              "count       48399      47726      46402      48082      48500      47165   \n",
              "unique          3          3          3          3          3          3   \n",
              "top     only some  only some  only some  only some  only some  only some   \n",
              "freq        27229      23869      26277      24600      22308      24735   \n",
              "\n",
              "           consci   conlegis    conarmy     fepol owngun helpnot     sexfreq  \\\n",
              "count       45751      47697      47801     34230  44333   36774       34518   \n",
              "unique          3          3          3         2      3       5           7   \n",
              "top     only some  only some  only some  disagree     no     3.0  not at all   \n",
              "freq        22537      25873      22099     24814  26709   14778        7977   \n",
              "\n",
              "       childs            helpful  \n",
              "count   68993              40629  \n",
              "unique      9                  3  \n",
              "top       0.0  try to be helpful  \n",
              "freq    19124              19716  "
            ]
          },
          "execution_count": 136,
          "metadata": {},
          "output_type": "execute_result"
        }
      ],
      "source": [
        "# remove 'conpharvac', 'hlthdep', and 'hlthconf' due to low observation count\n",
        "# leaving 'pres20' in because it is data from just 1 year so it will be low, plus could be interesting to analyze\n",
        "df_subset = df_subset.drop(['conpharvac','hlthdep','hlthconf'],axis=1)\n",
        "\n",
        "print(df_subset.shape)\n",
        "df_subset.describe()"
      ]
    },
    {
      "cell_type": "markdown",
      "id": "8ea3a11b-1eb1-453e-a151-1b3dc8b40426",
      "metadata": {
        "id": "8ea3a11b-1eb1-453e-a151-1b3dc8b40426"
      },
      "source": [
        "**Data Exploration:**"
      ]
    },
    {
      "cell_type": "code",
      "source": [
        "# histograms broken up to get an idea for the general trend in each confidence area, for all groups\n",
        "# histograms of confidence, economic\n",
        "df = pd.read_csv('/content/ML-project-1/selected_gss_data.csv')\n",
        "df['confinan'].hist(alpha=0.5,label='confinan')\n",
        "df['conbus'].hist(alpha=0.5, label='conbus')\n",
        "plt.legend(loc='upper right')"
      ],
      "metadata": {
        "id": "18TT2c19efrv",
        "outputId": "7df4223a-9d35-4b0b-8024-113732b7cf4d",
        "colab": {
          "base_uri": "https://localhost:8080/",
          "height": 502
        }
      },
      "id": "18TT2c19efrv",
      "execution_count": 3,
      "outputs": [
        {
          "output_type": "stream",
          "name": "stderr",
          "text": [
            "<ipython-input-3-2396bcd51fd4>:3: DtypeWarning: Columns (0,3,4,5,6,10,11,26,29,30,31,32,33) have mixed types. Specify dtype option on import or set low_memory=False.\n",
            "  df = pd.read_csv('/content/ML-project-1/selected_gss_data.csv')\n"
          ]
        },
        {
          "output_type": "execute_result",
          "data": {
            "text/plain": [
              "<matplotlib.legend.Legend at 0x7c26ccc76ce0>"
            ]
          },
          "metadata": {},
          "execution_count": 3
        },
        {
          "output_type": "display_data",
          "data": {
            "text/plain": [
              "<Figure size 640x480 with 1 Axes>"
            ],
            "image/png": "[encoded data removed]"
          },
          "metadata": {}
        }
      ]
    },
    {
      "cell_type": "code",
      "source": [
        "# histograms of confidence, social\n",
        "df['conclerg'].hist(alpha=0.5,label='conclerg')\n",
        "df['coneduc'].hist(alpha=0.5, label='coneduc')\n",
        "plt.legend(loc='upper right')"
      ],
      "metadata": {
        "id": "fJWCCRrnfP7y",
        "outputId": "13e3b396-d692-4d5f-8c9e-54b52888144d",
        "colab": {
          "base_uri": "https://localhost:8080/",
          "height": 447
        }
      },
      "id": "fJWCCRrnfP7y",
      "execution_count": null,
      "outputs": [
        {
          "output_type": "execute_result",
          "data": {
            "text/plain": [
              "<matplotlib.legend.Legend at 0x7f0f60d6f730>"
            ]
          },
          "metadata": {},
          "execution_count": 20
        },
        {
          "output_type": "display_data",
          "data": {
            "text/plain": [
              "<Figure size 640x480 with 1 Axes>"
            ],
            "image/png": "[encoded data removed]"
          },
          "metadata": {}
        }
      ]
    },
    {
      "cell_type": "code",
      "source": [
        "# histograms of confidence, executive government\n",
        "df['confed'].hist(alpha=0.5,label='confed')\n",
        "df['conarmy'].hist(alpha=0.5, label='conarmy')\n",
        "plt.legend(loc='upper right')"
      ],
      "metadata": {
        "id": "AF-AyItHhAUB",
        "outputId": "1ba64aa5-2bb8-41ba-923c-ed7668994c7f",
        "colab": {
          "base_uri": "https://localhost:8080/",
          "height": 451
        }
      },
      "id": "AF-AyItHhAUB",
      "execution_count": null,
      "outputs": [
        {
          "output_type": "execute_result",
          "data": {
            "text/plain": [
              "<matplotlib.legend.Legend at 0x7f0f608b44c0>"
            ]
          },
          "metadata": {},
          "execution_count": 25
        },
        {
          "output_type": "display_data",
          "data": {
            "text/plain": [
              "<Figure size 640x480 with 1 Axes>"
            ],
            "image/png": "[encoded data removed]"
          },
          "metadata": {}
        }
      ]
    },
    {
      "cell_type": "code",
      "source": [
        "# histograms of confidence, non-executive government\n",
        "df['conjudge'].hist(alpha=0.5, label='conjudge')\n",
        "df['conlegis'].hist(alpha=0.5,label='conclegis')\n",
        "plt.legend(loc='upper right')"
      ],
      "metadata": {
        "id": "xwP0MWtgfr1x",
        "outputId": "a21659f5-13b8-4736-ec82-c642d53954d2",
        "colab": {
          "base_uri": "https://localhost:8080/",
          "height": 447
        }
      },
      "id": "xwP0MWtgfr1x",
      "execution_count": null,
      "outputs": [
        {
          "output_type": "execute_result",
          "data": {
            "text/plain": [
              "<matplotlib.legend.Legend at 0x7f0f6094b7f0>"
            ]
          },
          "metadata": {},
          "execution_count": 26
        },
        {
          "output_type": "display_data",
          "data": {
            "text/plain": [
              "<Figure size 640x480 with 1 Axes>"
            ],
            "image/png": "[encoded data removed]"
          },
          "metadata": {}
        }
      ]
    },
    {
      "cell_type": "code",
      "source": [
        "# histograms of confidence, organizational\n",
        "df['conlabor'].hist(alpha=0.5,label='conlabor')\n",
        "df['conpress'].hist(alpha=0.5, label='conpress')\n",
        "plt.legend(loc='upper right')"
      ],
      "metadata": {
        "id": "mwRUjpxif8rs",
        "outputId": "f1dba687-3dcc-413a-d7ff-cf4b95f9327e",
        "colab": {
          "base_uri": "https://localhost:8080/",
          "height": 447
        }
      },
      "id": "mwRUjpxif8rs",
      "execution_count": null,
      "outputs": [
        {
          "output_type": "execute_result",
          "data": {
            "text/plain": [
              "<matplotlib.legend.Legend at 0x7f0f609ef550>"
            ]
          },
          "metadata": {},
          "execution_count": 27
        },
        {
          "output_type": "display_data",
          "data": {
            "text/plain": [
              "<Figure size 640x480 with 1 Axes>"
            ],
            "image/png": "[encoded data removed]"
          },
          "metadata": {}
        }
      ]
    },
    {
      "cell_type": "code",
      "source": [
        "# histograms of confidence, scientific\n",
        "df['conmedic'].hist(alpha=0.5,label='conmedic')\n",
        "df['consci'].hist(alpha=0.5, label='consci')\n",
        "plt.legend(loc='upper right')"
      ],
      "metadata": {
        "id": "Y90IgmrZgORO",
        "outputId": "6901f684-4354-4dbb-9d04-6f239f28841f",
        "colab": {
          "base_uri": "https://localhost:8080/",
          "height": 447
        }
      },
      "id": "Y90IgmrZgORO",
      "execution_count": null,
      "outputs": [
        {
          "output_type": "execute_result",
          "data": {
            "text/plain": [
              "<matplotlib.legend.Legend at 0x7f0f6086b250>"
            ]
          },
          "metadata": {},
          "execution_count": 28
        },
        {
          "output_type": "display_data",
          "data": {
            "text/plain": [
              "<Figure size 640x480 with 1 Axes>"
            ],
            "image/png": "[encoded data removed]"
          },
          "metadata": {}
        }
      ]
    },
    {
      "cell_type": "code",
      "source": [
        "df_con = df.loc[:, ['confinan','conarmy']]\n",
        "\n",
        "fig, axs = plt.subplots(1, len(df.columns), figsize=(15, 5))\n",
        "\n",
        "for i, column in enumerate(df.columns):\n",
        "    df[column].hist(ax=axs[i])\n",
        "    axs[i].set_title(f'Histogram of {column}')\n",
        "    axs[i].set_xlabel(column)\n",
        "    axs[i].set_ylabel('Frequency')\n",
        "\n",
        "plt.tight_layout()\n",
        "plt.show()\n",
        "# confinan conbus\tconclerg\tconeduc\tconfed\tconlabor\tconpress\tconmedic\tconjudge\tconsci\tconlegis\tconarmy"
      ],
      "metadata": {
        "id": "pokLMmAdJ6l1",
        "outputId": "afc0d53d-d96c-416e-b192-7d7deaf29b5a",
        "colab": {
          "base_uri": "https://localhost:8080/",
          "height": 790
        }
      },
      "id": "pokLMmAdJ6l1",
      "execution_count": 15,
      "outputs": [
        {
          "output_type": "error",
          "ename": "TypeError",
          "evalue": "'<=' not supported between instances of 'int' and 'str'",
          "traceback": [
            "\u001b[0;31m---------------------------------------------------------------------------\u001b[0m",
            "\u001b[0;31mTypeError\u001b[0m                                 Traceback (most recent call last)",
            "\u001b[0;32m<ipython-input-15-dd320882cd81>\u001b[0m in \u001b[0;36m<cell line: 5>\u001b[0;34m()\u001b[0m\n\u001b[1;32m      4\u001b[0m \u001b[0;34m\u001b[0m\u001b[0m\n\u001b[1;32m      5\u001b[0m \u001b[0;32mfor\u001b[0m \u001b[0mi\u001b[0m\u001b[0;34m,\u001b[0m \u001b[0mcolumn\u001b[0m \u001b[0;32min\u001b[0m \u001b[0menumerate\u001b[0m\u001b[0;34m(\u001b[0m\u001b[0mdf\u001b[0m\u001b[0;34m.\u001b[0m\u001b[0mcolumns\u001b[0m\u001b[0;34m)\u001b[0m\u001b[0;34m:\u001b[0m\u001b[0;34m\u001b[0m\u001b[0;34m\u001b[0m\u001b[0m\n\u001b[0;32m----> 6\u001b[0;31m     \u001b[0mdf\u001b[0m\u001b[0;34m[\u001b[0m\u001b[0mcolumn\u001b[0m\u001b[0;34m]\u001b[0m\u001b[0;34m.\u001b[0m\u001b[0mhist\u001b[0m\u001b[0;34m(\u001b[0m\u001b[0max\u001b[0m\u001b[0;34m=\u001b[0m\u001b[0maxs\u001b[0m\u001b[0;34m[\u001b[0m\u001b[0mi\u001b[0m\u001b[0;34m]\u001b[0m\u001b[0;34m)\u001b[0m\u001b[0;34m\u001b[0m\u001b[0;34m\u001b[0m\u001b[0m\n\u001b[0m\u001b[1;32m      7\u001b[0m     \u001b[0maxs\u001b[0m\u001b[0;34m[\u001b[0m\u001b[0mi\u001b[0m\u001b[0;34m]\u001b[0m\u001b[0;34m.\u001b[0m\u001b[0mset_title\u001b[0m\u001b[0;34m(\u001b[0m\u001b[0;34mf'Histogram of {column}'\u001b[0m\u001b[0;34m)\u001b[0m\u001b[0;34m\u001b[0m\u001b[0;34m\u001b[0m\u001b[0m\n\u001b[1;32m      8\u001b[0m     \u001b[0maxs\u001b[0m\u001b[0;34m[\u001b[0m\u001b[0mi\u001b[0m\u001b[0;34m]\u001b[0m\u001b[0;34m.\u001b[0m\u001b[0mset_xlabel\u001b[0m\u001b[0;34m(\u001b[0m\u001b[0mcolumn\u001b[0m\u001b[0;34m)\u001b[0m\u001b[0;34m\u001b[0m\u001b[0;34m\u001b[0m\u001b[0m\n",
            "\u001b[0;32m/usr/local/lib/python3.10/dist-packages/pandas/plotting/_core.py\u001b[0m in \u001b[0;36mhist_series\u001b[0;34m(self, by, ax, grid, xlabelsize, xrot, ylabelsize, yrot, figsize, bins, backend, legend, **kwargs)\u001b[0m\n\u001b[1;32m    103\u001b[0m     \"\"\"\n\u001b[1;32m    104\u001b[0m     \u001b[0mplot_backend\u001b[0m \u001b[0;34m=\u001b[0m \u001b[0m_get_plot_backend\u001b[0m\u001b[0;34m(\u001b[0m\u001b[0mbackend\u001b[0m\u001b[0;34m)\u001b[0m\u001b[0;34m\u001b[0m\u001b[0;34m\u001b[0m\u001b[0m\n\u001b[0;32m--> 105\u001b[0;31m     return plot_backend.hist_series(\n\u001b[0m\u001b[1;32m    106\u001b[0m         \u001b[0mself\u001b[0m\u001b[0;34m,\u001b[0m\u001b[0;34m\u001b[0m\u001b[0;34m\u001b[0m\u001b[0m\n\u001b[1;32m    107\u001b[0m         \u001b[0mby\u001b[0m\u001b[0;34m=\u001b[0m\u001b[0mby\u001b[0m\u001b[0;34m,\u001b[0m\u001b[0;34m\u001b[0m\u001b[0;34m\u001b[0m\u001b[0m\n",
            "\u001b[0;32m/usr/local/lib/python3.10/dist-packages/pandas/plotting/_matplotlib/hist.py\u001b[0m in \u001b[0;36mhist_series\u001b[0;34m(self, by, ax, grid, xlabelsize, xrot, ylabelsize, yrot, figsize, bins, legend, **kwds)\u001b[0m\n\u001b[1;32m    408\u001b[0m         \u001b[0;32mif\u001b[0m \u001b[0mlegend\u001b[0m\u001b[0;34m:\u001b[0m\u001b[0;34m\u001b[0m\u001b[0;34m\u001b[0m\u001b[0m\n\u001b[1;32m    409\u001b[0m             \u001b[0mkwds\u001b[0m\u001b[0;34m[\u001b[0m\u001b[0;34m\"label\"\u001b[0m\u001b[0;34m]\u001b[0m \u001b[0;34m=\u001b[0m \u001b[0mself\u001b[0m\u001b[0;34m.\u001b[0m\u001b[0mname\u001b[0m\u001b[0;34m\u001b[0m\u001b[0;34m\u001b[0m\u001b[0m\n\u001b[0;32m--> 410\u001b[0;31m         \u001b[0max\u001b[0m\u001b[0;34m.\u001b[0m\u001b[0mhist\u001b[0m\u001b[0;34m(\u001b[0m\u001b[0mvalues\u001b[0m\u001b[0;34m,\u001b[0m \u001b[0mbins\u001b[0m\u001b[0;34m=\u001b[0m\u001b[0mbins\u001b[0m\u001b[0;34m,\u001b[0m \u001b[0;34m**\u001b[0m\u001b[0mkwds\u001b[0m\u001b[0;34m)\u001b[0m\u001b[0;34m\u001b[0m\u001b[0;34m\u001b[0m\u001b[0m\n\u001b[0m\u001b[1;32m    411\u001b[0m         \u001b[0;32mif\u001b[0m \u001b[0mlegend\u001b[0m\u001b[0;34m:\u001b[0m\u001b[0;34m\u001b[0m\u001b[0;34m\u001b[0m\u001b[0m\n\u001b[1;32m    412\u001b[0m             \u001b[0max\u001b[0m\u001b[0;34m.\u001b[0m\u001b[0mlegend\u001b[0m\u001b[0;34m(\u001b[0m\u001b[0;34m)\u001b[0m\u001b[0;34m\u001b[0m\u001b[0;34m\u001b[0m\u001b[0m\n",
            "\u001b[0;32m/usr/local/lib/python3.10/dist-packages/matplotlib/__init__.py\u001b[0m in \u001b[0;36minner\u001b[0;34m(ax, data, *args, **kwargs)\u001b[0m\n\u001b[1;32m   1440\u001b[0m     \u001b[0;32mdef\u001b[0m \u001b[0minner\u001b[0m\u001b[0;34m(\u001b[0m\u001b[0max\u001b[0m\u001b[0;34m,\u001b[0m \u001b[0;34m*\u001b[0m\u001b[0margs\u001b[0m\u001b[0;34m,\u001b[0m \u001b[0mdata\u001b[0m\u001b[0;34m=\u001b[0m\u001b[0;32mNone\u001b[0m\u001b[0;34m,\u001b[0m \u001b[0;34m**\u001b[0m\u001b[0mkwargs\u001b[0m\u001b[0;34m)\u001b[0m\u001b[0;34m:\u001b[0m\u001b[0;34m\u001b[0m\u001b[0;34m\u001b[0m\u001b[0m\n\u001b[1;32m   1441\u001b[0m         \u001b[0;32mif\u001b[0m \u001b[0mdata\u001b[0m \u001b[0;32mis\u001b[0m \u001b[0;32mNone\u001b[0m\u001b[0;34m:\u001b[0m\u001b[0;34m\u001b[0m\u001b[0;34m\u001b[0m\u001b[0m\n\u001b[0;32m-> 1442\u001b[0;31m             \u001b[0;32mreturn\u001b[0m \u001b[0mfunc\u001b[0m\u001b[0;34m(\u001b[0m\u001b[0max\u001b[0m\u001b[0;34m,\u001b[0m \u001b[0;34m*\u001b[0m\u001b[0mmap\u001b[0m\u001b[0;34m(\u001b[0m\u001b[0msanitize_sequence\u001b[0m\u001b[0;34m,\u001b[0m \u001b[0margs\u001b[0m\u001b[0;34m)\u001b[0m\u001b[0;34m,\u001b[0m \u001b[0;34m**\u001b[0m\u001b[0mkwargs\u001b[0m\u001b[0;34m)\u001b[0m\u001b[0;34m\u001b[0m\u001b[0;34m\u001b[0m\u001b[0m\n\u001b[0m\u001b[1;32m   1443\u001b[0m \u001b[0;34m\u001b[0m\u001b[0m\n\u001b[1;32m   1444\u001b[0m         \u001b[0mbound\u001b[0m \u001b[0;34m=\u001b[0m \u001b[0mnew_sig\u001b[0m\u001b[0;34m.\u001b[0m\u001b[0mbind\u001b[0m\u001b[0;34m(\u001b[0m\u001b[0max\u001b[0m\u001b[0;34m,\u001b[0m \u001b[0;34m*\u001b[0m\u001b[0margs\u001b[0m\u001b[0;34m,\u001b[0m \u001b[0;34m**\u001b[0m\u001b[0mkwargs\u001b[0m\u001b[0;34m)\u001b[0m\u001b[0;34m\u001b[0m\u001b[0;34m\u001b[0m\u001b[0m\n",
            "\u001b[0;32m/usr/local/lib/python3.10/dist-packages/matplotlib/axes/_axes.py\u001b[0m in \u001b[0;36mhist\u001b[0;34m(self, x, bins, range, density, weights, cumulative, bottom, histtype, align, orientation, rwidth, log, color, label, stacked, **kwargs)\u001b[0m\n\u001b[1;32m   6760\u001b[0m                     \u001b[0;31m# python's min/max ignore nan,\u001b[0m\u001b[0;34m\u001b[0m\u001b[0;34m\u001b[0m\u001b[0m\n\u001b[1;32m   6761\u001b[0m                     \u001b[0;31m# np.minnan returns nan for all nan input\u001b[0m\u001b[0;34m\u001b[0m\u001b[0;34m\u001b[0m\u001b[0m\n\u001b[0;32m-> 6762\u001b[0;31m                     \u001b[0mxmin\u001b[0m \u001b[0;34m=\u001b[0m \u001b[0mmin\u001b[0m\u001b[0;34m(\u001b[0m\u001b[0mxmin\u001b[0m\u001b[0;34m,\u001b[0m \u001b[0mnp\u001b[0m\u001b[0;34m.\u001b[0m\u001b[0mnanmin\u001b[0m\u001b[0;34m(\u001b[0m\u001b[0mxi\u001b[0m\u001b[0;34m)\u001b[0m\u001b[0;34m)\u001b[0m\u001b[0;34m\u001b[0m\u001b[0;34m\u001b[0m\u001b[0m\n\u001b[0m\u001b[1;32m   6763\u001b[0m                     \u001b[0mxmax\u001b[0m \u001b[0;34m=\u001b[0m \u001b[0mmax\u001b[0m\u001b[0;34m(\u001b[0m\u001b[0mxmax\u001b[0m\u001b[0;34m,\u001b[0m \u001b[0mnp\u001b[0m\u001b[0;34m.\u001b[0m\u001b[0mnanmax\u001b[0m\u001b[0;34m(\u001b[0m\u001b[0mxi\u001b[0m\u001b[0;34m)\u001b[0m\u001b[0;34m)\u001b[0m\u001b[0;34m\u001b[0m\u001b[0;34m\u001b[0m\u001b[0m\n\u001b[1;32m   6764\u001b[0m             \u001b[0;32mif\u001b[0m \u001b[0mxmin\u001b[0m \u001b[0;34m<=\u001b[0m \u001b[0mxmax\u001b[0m\u001b[0;34m:\u001b[0m  \u001b[0;31m# Only happens if we have seen a finite value.\u001b[0m\u001b[0;34m\u001b[0m\u001b[0;34m\u001b[0m\u001b[0m\n",
            "\u001b[0;32m/usr/local/lib/python3.10/dist-packages/numpy/lib/nanfunctions.py\u001b[0m in \u001b[0;36mnanmin\u001b[0;34m(a, axis, out, keepdims, initial, where)\u001b[0m\n\u001b[1;32m    348\u001b[0m         \u001b[0;31m# Slow, but safe for subclasses of ndarray\u001b[0m\u001b[0;34m\u001b[0m\u001b[0;34m\u001b[0m\u001b[0m\n\u001b[1;32m    349\u001b[0m         \u001b[0ma\u001b[0m\u001b[0;34m,\u001b[0m \u001b[0mmask\u001b[0m \u001b[0;34m=\u001b[0m \u001b[0m_replace_nan\u001b[0m\u001b[0;34m(\u001b[0m\u001b[0ma\u001b[0m\u001b[0;34m,\u001b[0m \u001b[0;34m+\u001b[0m\u001b[0mnp\u001b[0m\u001b[0;34m.\u001b[0m\u001b[0minf\u001b[0m\u001b[0;34m)\u001b[0m\u001b[0;34m\u001b[0m\u001b[0;34m\u001b[0m\u001b[0m\n\u001b[0;32m--> 350\u001b[0;31m         \u001b[0mres\u001b[0m \u001b[0;34m=\u001b[0m \u001b[0mnp\u001b[0m\u001b[0;34m.\u001b[0m\u001b[0mamin\u001b[0m\u001b[0;34m(\u001b[0m\u001b[0ma\u001b[0m\u001b[0;34m,\u001b[0m \u001b[0maxis\u001b[0m\u001b[0;34m=\u001b[0m\u001b[0maxis\u001b[0m\u001b[0;34m,\u001b[0m \u001b[0mout\u001b[0m\u001b[0;34m=\u001b[0m\u001b[0mout\u001b[0m\u001b[0;34m,\u001b[0m \u001b[0;34m**\u001b[0m\u001b[0mkwargs\u001b[0m\u001b[0;34m)\u001b[0m\u001b[0;34m\u001b[0m\u001b[0;34m\u001b[0m\u001b[0m\n\u001b[0m\u001b[1;32m    351\u001b[0m         \u001b[0;32mif\u001b[0m \u001b[0mmask\u001b[0m \u001b[0;32mis\u001b[0m \u001b[0;32mNone\u001b[0m\u001b[0;34m:\u001b[0m\u001b[0;34m\u001b[0m\u001b[0;34m\u001b[0m\u001b[0m\n\u001b[1;32m    352\u001b[0m             \u001b[0;32mreturn\u001b[0m \u001b[0mres\u001b[0m\u001b[0;34m\u001b[0m\u001b[0;34m\u001b[0m\u001b[0m\n",
            "\u001b[0;32m/usr/local/lib/python3.10/dist-packages/numpy/core/fromnumeric.py\u001b[0m in \u001b[0;36mamin\u001b[0;34m(a, axis, out, keepdims, initial, where)\u001b[0m\n\u001b[1;32m   2968\u001b[0m     \u001b[0mndarray\u001b[0m\u001b[0;34m.\u001b[0m\u001b[0mmin\u001b[0m \u001b[0;34m:\u001b[0m \u001b[0mequivalent\u001b[0m \u001b[0mmethod\u001b[0m\u001b[0;34m\u001b[0m\u001b[0;34m\u001b[0m\u001b[0m\n\u001b[1;32m   2969\u001b[0m     \"\"\"\n\u001b[0;32m-> 2970\u001b[0;31m     return _wrapreduction(a, np.minimum, 'min', axis, None, out,\n\u001b[0m\u001b[1;32m   2971\u001b[0m                           keepdims=keepdims, initial=initial, where=where)\n\u001b[1;32m   2972\u001b[0m \u001b[0;34m\u001b[0m\u001b[0m\n",
            "\u001b[0;32m/usr/local/lib/python3.10/dist-packages/numpy/core/fromnumeric.py\u001b[0m in \u001b[0;36m_wrapreduction\u001b[0;34m(obj, ufunc, method, axis, dtype, out, **kwargs)\u001b[0m\n\u001b[1;32m     86\u001b[0m                 \u001b[0;32mreturn\u001b[0m \u001b[0mreduction\u001b[0m\u001b[0;34m(\u001b[0m\u001b[0maxis\u001b[0m\u001b[0;34m=\u001b[0m\u001b[0maxis\u001b[0m\u001b[0;34m,\u001b[0m \u001b[0mout\u001b[0m\u001b[0;34m=\u001b[0m\u001b[0mout\u001b[0m\u001b[0;34m,\u001b[0m \u001b[0;34m**\u001b[0m\u001b[0mpasskwargs\u001b[0m\u001b[0;34m)\u001b[0m\u001b[0;34m\u001b[0m\u001b[0;34m\u001b[0m\u001b[0m\n\u001b[1;32m     87\u001b[0m \u001b[0;34m\u001b[0m\u001b[0m\n\u001b[0;32m---> 88\u001b[0;31m     \u001b[0;32mreturn\u001b[0m \u001b[0mufunc\u001b[0m\u001b[0;34m.\u001b[0m\u001b[0mreduce\u001b[0m\u001b[0;34m(\u001b[0m\u001b[0mobj\u001b[0m\u001b[0;34m,\u001b[0m \u001b[0maxis\u001b[0m\u001b[0;34m,\u001b[0m \u001b[0mdtype\u001b[0m\u001b[0;34m,\u001b[0m \u001b[0mout\u001b[0m\u001b[0;34m,\u001b[0m \u001b[0;34m**\u001b[0m\u001b[0mpasskwargs\u001b[0m\u001b[0;34m)\u001b[0m\u001b[0;34m\u001b[0m\u001b[0;34m\u001b[0m\u001b[0m\n\u001b[0m\u001b[1;32m     89\u001b[0m \u001b[0;34m\u001b[0m\u001b[0m\n\u001b[1;32m     90\u001b[0m \u001b[0;34m\u001b[0m\u001b[0m\n",
            "\u001b[0;31mTypeError\u001b[0m: '<=' not supported between instances of 'int' and 'str'"
          ]
        },
        {
          "output_type": "display_data",
          "data": {
            "text/plain": [
              "<Figure size 1500x500 with 35 Axes>"
            ],
            "image/png": "[encoded data removed]"
          },
          "metadata": {}
        }
      ]
    },
    {
      "cell_type": "code",
      "source": [
        "# other exploration should include- by group, scatterplots, boxplots, kernel density\n",
        "# this is more a placeholder until more working on this in class tomorrow"
      ],
      "metadata": {
        "id": "ZxHLhsWKhT6r"
      },
      "id": "ZxHLhsWKhT6r",
      "execution_count": null,
      "outputs": []
    },
    {
      "cell_type": "markdown",
      "id": "3780fc1a-992c-4a2c-8a99-2e085f1e310f",
      "metadata": {
        "id": "3780fc1a-992c-4a2c-8a99-2e085f1e310f"
      },
      "source": [
        "**Data Analysis:**"
      ]
    },
    {
      "cell_type": "code",
      "execution_count": null,
      "id": "47c14607-456b-478a-8cfa-f7cc69c86230",
      "metadata": {
        "id": "47c14607-456b-478a-8cfa-f7cc69c86230"
      },
      "outputs": [],
      "source": []
    }
  ],
  "metadata": {
    "kernelspec": {
      "display_name": "Python 3 (ipykernel)",
      "language": "python",
      "name": "python3"
    },
    "language_info": {
      "codemirror_mode": {
        "name": "ipython",
        "version": 3
      },
      "file_extension": ".py",
      "mimetype": "text/x-python",
      "name": "python",
      "nbconvert_exporter": "python",
      "pygments_lexer": "ipython3",
      "version": "3.11.5"
    },
    "colab": {
      "provenance": []
    }
  },
  "nbformat": 4,
  "nbformat_minor": 5
}